{
 "cells": [
  {
   "cell_type": "markdown",
   "id": "2c5745cb",
   "metadata": {},
   "source": [
    "## Load and Inspect the Data"
   ]
  },
  {
   "cell_type": "code",
   "execution_count": 3,
   "id": "6324d3ad",
   "metadata": {},
   "outputs": [
    {
     "data": {
      "text/html": [
       "<div>\n",
       "<style scoped>\n",
       "    .dataframe tbody tr th:only-of-type {\n",
       "        vertical-align: middle;\n",
       "    }\n",
       "\n",
       "    .dataframe tbody tr th {\n",
       "        vertical-align: top;\n",
       "    }\n",
       "\n",
       "    .dataframe thead th {\n",
       "        text-align: right;\n",
       "    }\n",
       "</style>\n",
       "<table border=\"1\" class=\"dataframe\">\n",
       "  <thead>\n",
       "    <tr style=\"text-align: right;\">\n",
       "      <th></th>\n",
       "      <th>id</th>\n",
       "      <th>country</th>\n",
       "      <th>description</th>\n",
       "      <th>designation</th>\n",
       "      <th>points</th>\n",
       "      <th>price</th>\n",
       "      <th>province</th>\n",
       "      <th>title</th>\n",
       "      <th>variety</th>\n",
       "      <th>winery</th>\n",
       "    </tr>\n",
       "  </thead>\n",
       "  <tbody>\n",
       "    <tr>\n",
       "      <th>0</th>\n",
       "      <td>1</td>\n",
       "      <td>Portugal</td>\n",
       "      <td>This is ripe and fruity, a wine that is smooth...</td>\n",
       "      <td>Avidagos</td>\n",
       "      <td>87</td>\n",
       "      <td>15.0</td>\n",
       "      <td>Douro</td>\n",
       "      <td>Quinta dos Avidagos 2011 Avidagos Red (Douro)</td>\n",
       "      <td>Portuguese Red</td>\n",
       "      <td>Quinta dos Avidagos</td>\n",
       "    </tr>\n",
       "    <tr>\n",
       "      <th>1</th>\n",
       "      <td>3</td>\n",
       "      <td>US</td>\n",
       "      <td>Pineapple rind, lemon pith and orange blossom ...</td>\n",
       "      <td>Reserve Late Harvest</td>\n",
       "      <td>87</td>\n",
       "      <td>13.0</td>\n",
       "      <td>Michigan</td>\n",
       "      <td>St. Julian 2013 Reserve Late Harvest Riesling ...</td>\n",
       "      <td>Riesling</td>\n",
       "      <td>St. Julian</td>\n",
       "    </tr>\n",
       "    <tr>\n",
       "      <th>2</th>\n",
       "      <td>4</td>\n",
       "      <td>US</td>\n",
       "      <td>Much like the regular bottling from 2012, this...</td>\n",
       "      <td>Vintner's Reserve Wild Child Block</td>\n",
       "      <td>87</td>\n",
       "      <td>65.0</td>\n",
       "      <td>Oregon</td>\n",
       "      <td>Sweet Cheeks 2012 Vintner's Reserve Wild Child...</td>\n",
       "      <td>Pinot Noir</td>\n",
       "      <td>Sweet Cheeks</td>\n",
       "    </tr>\n",
       "    <tr>\n",
       "      <th>3</th>\n",
       "      <td>5</td>\n",
       "      <td>Spain</td>\n",
       "      <td>Blackberry and raspberry aromas show a typical...</td>\n",
       "      <td>Ars In Vitro</td>\n",
       "      <td>87</td>\n",
       "      <td>15.0</td>\n",
       "      <td>Northern Spain</td>\n",
       "      <td>Tandem 2011 Ars In Vitro Tempranillo-Merlot (N...</td>\n",
       "      <td>Tempranillo-Merlot</td>\n",
       "      <td>Tandem</td>\n",
       "    </tr>\n",
       "    <tr>\n",
       "      <th>4</th>\n",
       "      <td>6</td>\n",
       "      <td>Italy</td>\n",
       "      <td>Here's a bright, informal red that opens with ...</td>\n",
       "      <td>Belsito</td>\n",
       "      <td>87</td>\n",
       "      <td>16.0</td>\n",
       "      <td>Sicily &amp; Sardinia</td>\n",
       "      <td>Terre di Giurfo 2013 Belsito Frappato (Vittoria)</td>\n",
       "      <td>Frappato</td>\n",
       "      <td>Terre di Giurfo</td>\n",
       "    </tr>\n",
       "  </tbody>\n",
       "</table>\n",
       "</div>"
      ],
      "text/plain": [
       "   id   country                                        description  \\\n",
       "0   1  Portugal  This is ripe and fruity, a wine that is smooth...   \n",
       "1   3        US  Pineapple rind, lemon pith and orange blossom ...   \n",
       "2   4        US  Much like the regular bottling from 2012, this...   \n",
       "3   5     Spain  Blackberry and raspberry aromas show a typical...   \n",
       "4   6     Italy  Here's a bright, informal red that opens with ...   \n",
       "\n",
       "                          designation  points  price           province  \\\n",
       "0                            Avidagos      87   15.0              Douro   \n",
       "1                Reserve Late Harvest      87   13.0           Michigan   \n",
       "2  Vintner's Reserve Wild Child Block      87   65.0             Oregon   \n",
       "3                        Ars In Vitro      87   15.0     Northern Spain   \n",
       "4                             Belsito      87   16.0  Sicily & Sardinia   \n",
       "\n",
       "                                               title             variety  \\\n",
       "0      Quinta dos Avidagos 2011 Avidagos Red (Douro)      Portuguese Red   \n",
       "1  St. Julian 2013 Reserve Late Harvest Riesling ...            Riesling   \n",
       "2  Sweet Cheeks 2012 Vintner's Reserve Wild Child...          Pinot Noir   \n",
       "3  Tandem 2011 Ars In Vitro Tempranillo-Merlot (N...  Tempranillo-Merlot   \n",
       "4   Terre di Giurfo 2013 Belsito Frappato (Vittoria)            Frappato   \n",
       "\n",
       "                winery  \n",
       "0  Quinta dos Avidagos  \n",
       "1           St. Julian  \n",
       "2         Sweet Cheeks  \n",
       "3               Tandem  \n",
       "4      Terre di Giurfo  "
      ]
     },
     "execution_count": 3,
     "metadata": {},
     "output_type": "execute_result"
    }
   ],
   "source": [
    "import pandas as pd\n",
    "import matplotlib.pyplot as plt\n",
    "import seaborn as sns\n",
    "import numpy as np\n",
    "\n",
    "file_path = '../preprocessed_winemag-data copy.csv'  \n",
    "df = pd.read_csv(file_path)\n",
    "\n",
    "df.head()"
   ]
  },
  {
   "cell_type": "code",
   "execution_count": 6,
   "id": "15c30b3c",
   "metadata": {},
   "outputs": [
    {
     "data": {
      "text/plain": [
       "<Axes: xlabel='winery'>"
      ]
     },
     "execution_count": 6,
     "metadata": {},
     "output_type": "execute_result"
    },
    {
     "data": {
      "image/png": "[encoded data removed]",
      "text/plain": [
       "<Figure size 640x480 with 1 Axes>"
      ]
     },
     "metadata": {},
     "output_type": "display_data"
    }
   ],
   "source": [
    "df[['winery']].value_counts().head(10).plot(kind='bar')"
   ]
  },
  {
   "cell_type": "code",
   "execution_count": 16,
   "id": "505c32a2",
   "metadata": {},
   "outputs": [
    {
     "data": {
      "text/html": [
       "<div>\n",
       "<style scoped>\n",
       "    .dataframe tbody tr th:only-of-type {\n",
       "        vertical-align: middle;\n",
       "    }\n",
       "\n",
       "    .dataframe tbody tr th {\n",
       "        vertical-align: top;\n",
       "    }\n",
       "\n",
       "    .dataframe thead th {\n",
       "        text-align: right;\n",
       "    }\n",
       "</style>\n",
       "<table border=\"1\" class=\"dataframe\">\n",
       "  <thead>\n",
       "    <tr style=\"text-align: right;\">\n",
       "      <th></th>\n",
       "      <th>country</th>\n",
       "      <th>points</th>\n",
       "      <th>price</th>\n",
       "      <th>province</th>\n",
       "    </tr>\n",
       "  </thead>\n",
       "  <tbody>\n",
       "    <tr>\n",
       "      <th>0</th>\n",
       "      <td>Portugal</td>\n",
       "      <td>87</td>\n",
       "      <td>15.0</td>\n",
       "      <td>Douro</td>\n",
       "    </tr>\n",
       "    <tr>\n",
       "      <th>1</th>\n",
       "      <td>US</td>\n",
       "      <td>87</td>\n",
       "      <td>13.0</td>\n",
       "      <td>Michigan</td>\n",
       "    </tr>\n",
       "    <tr>\n",
       "      <th>2</th>\n",
       "      <td>US</td>\n",
       "      <td>87</td>\n",
       "      <td>65.0</td>\n",
       "      <td>Oregon</td>\n",
       "    </tr>\n",
       "    <tr>\n",
       "      <th>3</th>\n",
       "      <td>Spain</td>\n",
       "      <td>87</td>\n",
       "      <td>15.0</td>\n",
       "      <td>Northern Spain</td>\n",
       "    </tr>\n",
       "    <tr>\n",
       "      <th>4</th>\n",
       "      <td>Italy</td>\n",
       "      <td>87</td>\n",
       "      <td>16.0</td>\n",
       "      <td>Sicily &amp; Sardinia</td>\n",
       "    </tr>\n",
       "  </tbody>\n",
       "</table>\n",
       "</div>"
      ],
      "text/plain": [
       "    country  points  price           province\n",
       "0  Portugal      87   15.0              Douro\n",
       "1        US      87   13.0           Michigan\n",
       "2        US      87   65.0             Oregon\n",
       "3     Spain      87   15.0     Northern Spain\n",
       "4     Italy      87   16.0  Sicily & Sardinia"
      ]
     },
     "execution_count": 16,
     "metadata": {},
     "output_type": "execute_result"
    }
   ],
   "source": [
    "filtered_df = df[['country', 'points', 'price', 'province']]\n",
    "filtered_df.head()"
   ]
  },
  {
   "cell_type": "code",
   "execution_count": 127,
   "id": "de5cdc83",
   "metadata": {},
   "outputs": [
    {
     "data": {
      "text/html": [
       "<div>\n",
       "<style scoped>\n",
       "    .dataframe tbody tr th:only-of-type {\n",
       "        vertical-align: middle;\n",
       "    }\n",
       "\n",
       "    .dataframe tbody tr th {\n",
       "        vertical-align: top;\n",
       "    }\n",
       "\n",
       "    .dataframe thead th {\n",
       "        text-align: right;\n",
       "    }\n",
       "</style>\n",
       "<table border=\"1\" class=\"dataframe\">\n",
       "  <thead>\n",
       "    <tr style=\"text-align: right;\">\n",
       "      <th></th>\n",
       "      <th>Province</th>\n",
       "      <th>Average Points</th>\n",
       "      <th>Average Price</th>\n",
       "      <th>Country</th>\n",
       "      <th>Number of Wines</th>\n",
       "      <th>Log Number of Wines</th>\n",
       "    </tr>\n",
       "  </thead>\n",
       "  <tbody>\n",
       "    <tr>\n",
       "      <th>2</th>\n",
       "      <td>Aconcagua Valley</td>\n",
       "      <td>88.129412</td>\n",
       "      <td>44.905882</td>\n",
       "      <td>Chile</td>\n",
       "      <td>85</td>\n",
       "      <td>4.409391</td>\n",
       "    </tr>\n",
       "    <tr>\n",
       "      <th>3</th>\n",
       "      <td>Aegean</td>\n",
       "      <td>89.095238</td>\n",
       "      <td>29.285714</td>\n",
       "      <td>Turkey</td>\n",
       "      <td>21</td>\n",
       "      <td>2.392317</td>\n",
       "    </tr>\n",
       "    <tr>\n",
       "      <th>7</th>\n",
       "      <td>Alentejano</td>\n",
       "      <td>88.036011</td>\n",
       "      <td>21.343490</td>\n",
       "      <td>Portugal</td>\n",
       "      <td>722</td>\n",
       "      <td>7.495855</td>\n",
       "    </tr>\n",
       "    <tr>\n",
       "      <th>8</th>\n",
       "      <td>Alentejo</td>\n",
       "      <td>88.647799</td>\n",
       "      <td>26.710692</td>\n",
       "      <td>Portugal</td>\n",
       "      <td>159</td>\n",
       "      <td>5.312883</td>\n",
       "    </tr>\n",
       "    <tr>\n",
       "      <th>11</th>\n",
       "      <td>Alsace</td>\n",
       "      <td>89.943987</td>\n",
       "      <td>32.315761</td>\n",
       "      <td>France</td>\n",
       "      <td>1821</td>\n",
       "      <td>8.830515</td>\n",
       "    </tr>\n",
       "  </tbody>\n",
       "</table>\n",
       "</div>"
      ],
      "text/plain": [
       "            Province  Average Points  Average Price   Country  \\\n",
       "2   Aconcagua Valley       88.129412      44.905882     Chile   \n",
       "3             Aegean       89.095238      29.285714    Turkey   \n",
       "7         Alentejano       88.036011      21.343490  Portugal   \n",
       "8           Alentejo       88.647799      26.710692  Portugal   \n",
       "11            Alsace       89.943987      32.315761    France   \n",
       "\n",
       "    Number of Wines  Log Number of Wines  \n",
       "2                85             4.409391  \n",
       "3                21             2.392317  \n",
       "7               722             7.495855  \n",
       "8               159             5.312883  \n",
       "11             1821             8.830515  "
      ]
     },
     "metadata": {},
     "output_type": "display_data"
    }
   ],
   "source": [
    "grouped = df.groupby('province').agg(\n",
    "    average_points=('points', 'mean'),  # Average points per province\n",
    "    average_price=('price', 'mean'),    # Average price per province\n",
    "    country=('country', 'first'),       # Country (assuming each province belongs to one country)\n",
    "    num_wines=('province', 'size')      # Number of wines in the province\n",
    ")\n",
    "\n",
    "# Reset index to make 'province' a column again\n",
    "grouped.reset_index(inplace=True)\n",
    "\n",
    "# Reorder the columns\n",
    "grouped = grouped[['province', 'average_points', 'average_price', 'country', 'num_wines']]\n",
    "\n",
    "grouped = grouped[grouped['num_wines'] > 20]\n",
    "grouped = grouped[grouped['average_price'] < 100]\n",
    "grouped = grouped[grouped['average_price'] > 10]\n",
    "\n",
    "\n",
    "grouped['log_num_wines'] = np.log2(grouped['num_wines']/4)\n",
    "\n",
    "# Rename Columns\n",
    "grouped.columns = ['Province', 'Average Points', 'Average Price', 'Country', 'Number of Wines', 'Log Number of Wines']\n",
    "\n",
    "grouped.to_csv('province_info.csv', index=False)\n",
    "\n",
    "display(grouped.head())"
   ]
  },
  {
   "cell_type": "code",
   "execution_count": 128,
   "id": "0d1378ab",
   "metadata": {},
   "outputs": [
    {
     "name": "stdout",
     "output_type": "stream",
     "text": [
      "min: 2.39 -- max: 12.57\n"
     ]
    }
   ],
   "source": [
    "print(f'min: {grouped[\"Log Number of Wines\"].min():.2f} -- max: {grouped[\"Log Number of Wines\"].max():.2f}')"
   ]
  },
  {
   "cell_type": "code",
   "execution_count": 129,
   "id": "69f5b426",
   "metadata": {},
   "outputs": [
    {
     "data": {
      "text/plain": [
       "10.096831472611818"
      ]
     },
     "execution_count": 129,
     "metadata": {},
     "output_type": "execute_result"
    }
   ],
   "source": [
    "np.log(24266.00)"
   ]
  },
  {
   "cell_type": "code",
   "execution_count": 130,
   "id": "e242afe9",
   "metadata": {},
   "outputs": [
    {
     "name": "stdout",
     "output_type": "stream",
     "text": [
      "min: 21.00 -- max: 24266.00\n"
     ]
    }
   ],
   "source": [
    "print(f'min: {grouped[\"Number of Wines\"].min():.2f} -- max: {grouped[\"Number of Wines\"].max():.2f}')"
   ]
  }
 ],
 "metadata": {
  "kernelspec": {
   "display_name": "ml",
   "language": "python",
   "name": "python3"
  },
  "language_info": {
   "codemirror_mode": {
    "name": "ipython",
    "version": 3
   },
   "file_extension": ".py",
   "mimetype": "text/x-python",
   "name": "python",
   "nbconvert_exporter": "python",
   "pygments_lexer": "ipython3",
   "version": "3.11.5"
  }
 },
 "nbformat": 4,
 "nbformat_minor": 5
}
